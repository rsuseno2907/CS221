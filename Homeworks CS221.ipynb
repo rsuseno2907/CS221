{
  "cells": [
    {
      "cell_type": "code",
      "execution_count": null,
      "metadata": {
        "id": "RwuiEGgdUS_l"
      },
      "outputs": [],
      "source": [
        "text = 'CTTCGAAAGTTTGGGCCGAGTCTTACAGTCGGTCTTGAAGCAAAGTAACGAACTCCACGGCCCTGACTACCGAACCAGTTGTGAGTACTCAACTGGGTGAGAGTGCAGTCCCTATTGAGTTTCCGAGACTCACCGGGATTTTCGATCCAGCCTCAGTCCAGTCTTGTGGCCAACTCACCAAATGACGTTGGAATATCCCTGTCTAGCTCACGCAGTACTTAGTAAGAGGTCGCTGCAGCGGGGCAAGGAGATCGGAAAATGTGCTCTATATGCGACTAAAGCTCCTAACTTACACGTAGACTTGCCCGTGTTAAAAACTCGGCTCACATGCTGTCTGCGGCTGGCTGTATACAGTATCTACCTAATACCCTTCAGTTCGCCGCACAAAAGCTGGGAGTTACCGCGGAAATCACAG'\n",
        "k = 4"
      ]
    },
    {
      "cell_type": "code",
      "execution_count": null,
      "metadata": {
        "id": "82EeCDNaW1OJ"
      },
      "outputs": [],
      "source": [
        "from collections import Counter\n",
        "from itertools import product\n",
        "from google.colab import files\n",
        "import numpy as np\n",
        "import pandas as pd"
      ]
    },
    {
      "cell_type": "markdown",
      "source": [
        "# HW1"
      ],
      "metadata": {
        "id": "EuOYAwfY0OzP"
      }
    },
    {
      "cell_type": "code",
      "execution_count": null,
      "metadata": {
        "colab": {
          "base_uri": "https://localhost:8080/",
          "height": 38,
          "resources": {
            "http://localhost:8080/nbextensions/google.colab/files.js": {
              "data": "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",
              "headers": [
                [
                  "content-type",
                  "application/javascript"
                ]
              ],
              "ok": true,
              "status": 200,
              "status_text": ""
            }
          }
        },
        "id": "gNiTYueP03Ui",
        "outputId": "096a8690-1c43-43f5-c0f9-798f87c0cb35"
      },
      "outputs": [
        {
          "output_type": "display_data",
          "data": {
            "text/html": [
              "\n",
              "     <input type=\"file\" id=\"files-38a2f02a-35f4-4ad1-b43f-be2c42ba8e7a\" name=\"files[]\" multiple disabled\n",
              "        style=\"border:none\" />\n",
              "     <output id=\"result-38a2f02a-35f4-4ad1-b43f-be2c42ba8e7a\">\n",
              "      Upload widget is only available when the cell has been executed in the\n",
              "      current browser session. Please rerun this cell to enable.\n",
              "      </output>\n",
              "      <script src=\"/nbextensions/google.colab/files.js\"></script> "
            ],
            "text/plain": [
              "<IPython.core.display.HTML object>"
            ]
          },
          "metadata": {}
        }
      ],
      "source": [
        "uploaded = files.upload()"
      ]
    },
    {
      "cell_type": "code",
      "execution_count": null,
      "metadata": {
        "colab": {
          "base_uri": "https://localhost:8080/",
          "height": 252
        },
        "id": "9cvAXpdFxIbG",
        "outputId": "6cf9ca0a-026c-444f-caa6-65743e6d1b14"
      },
      "outputs": [
        {
          "output_type": "stream",
          "name": "stdout",
          "text": [
            "Your file doesn't exist!\n"
          ]
        },
        {
          "output_type": "error",
          "ename": "NameError",
          "evalue": "ignored",
          "traceback": [
            "\u001b[0;31m---------------------------------------------------------------------------\u001b[0m",
            "\u001b[0;31mNameError\u001b[0m                                 Traceback (most recent call last)",
            "\u001b[0;32m<ipython-input-6-9e12a64e4b71>\u001b[0m in \u001b[0;36m<module>\u001b[0;34m()\u001b[0m\n\u001b[1;32m      8\u001b[0m \u001b[0;31m#Prep the variables\u001b[0m\u001b[0;34m\u001b[0m\u001b[0;34m\u001b[0m\u001b[0;34m\u001b[0m\u001b[0m\n\u001b[1;32m      9\u001b[0m \u001b[0mseq\u001b[0m \u001b[0;34m=\u001b[0m \u001b[0;34m{\u001b[0m\u001b[0;34m}\u001b[0m \u001b[0;31m#a dictionary that will store the sequence name (key) and the actual sequence (value)\u001b[0m\u001b[0;34m\u001b[0m\u001b[0;34m\u001b[0m\u001b[0m\n\u001b[0;32m---> 10\u001b[0;31m \u001b[0;32mfor\u001b[0m \u001b[0mline\u001b[0m \u001b[0;32min\u001b[0m \u001b[0mf\u001b[0m\u001b[0;34m:\u001b[0m\u001b[0;34m\u001b[0m\u001b[0;34m\u001b[0m\u001b[0m\n\u001b[0m\u001b[1;32m     11\u001b[0m     \u001b[0;32mif\u001b[0m\u001b[0;34m(\u001b[0m\u001b[0mline\u001b[0m\u001b[0;34m[\u001b[0m\u001b[0;36m0\u001b[0m\u001b[0;34m]\u001b[0m\u001b[0;34m==\u001b[0m\u001b[0;34m'>'\u001b[0m\u001b[0;34m)\u001b[0m\u001b[0;34m:\u001b[0m \u001b[0;31m#if it's a header file\u001b[0m\u001b[0;34m\u001b[0m\u001b[0;34m\u001b[0m\u001b[0m\n\u001b[1;32m     12\u001b[0m         \u001b[0mwords\u001b[0m \u001b[0;34m=\u001b[0m \u001b[0mline\u001b[0m\u001b[0;34m.\u001b[0m\u001b[0msplit\u001b[0m\u001b[0;34m(\u001b[0m\u001b[0;34m)\u001b[0m\u001b[0;34m\u001b[0m\u001b[0;34m\u001b[0m\u001b[0m\n",
            "\u001b[0;31mNameError\u001b[0m: name 'f' is not defined"
          ]
        }
      ],
      "source": [
        "#Read FASTA file\n",
        "try:\n",
        "    # f=open('myfile.fa')\n",
        "    f=open('rosalind_kmer_3.txt')\n",
        "except IOError:\n",
        "    print(\"Your file doesn't exist!\")\n",
        "    \n",
        "#Prep the variables\n",
        "seq = {} #a dictionary that will store the sequence name (key) and the actual sequence (value)\n",
        "for line in f:\n",
        "    if(line[0]=='>'): #if it's a header file\n",
        "        words = line.split()\n",
        "        seqName = words[0][1:] #disregard the '>' with the [1:]\n",
        "        seq[seqName] = '' #create a new entry (/key) to the seq dictionary. seqName is the key here, and it has no value just yet\n",
        "    else:\n",
        "        newLine = line.strip()\n",
        "        seq[seqName]=seq[seqName]+newLine\n",
        "\n",
        "# print(seq)\n",
        "text = seq['Rosalind_1013']\n",
        "text"
      ]
    },
    {
      "cell_type": "code",
      "execution_count": null,
      "metadata": {
        "id": "5vjxRJYtVjJd"
      },
      "outputs": [],
      "source": [
        "#Find all kmers\n",
        "kmers = []\n",
        "for i in range(0,len(text)-4+1):\n",
        "  kmers.append(text[i:i+4]) \n",
        "kmers.sort()\n",
        "\n",
        "#Count how many kmers\n",
        "count = Counter(kmers) #count is a dictionary with kmer as key and its count as value\n",
        "print(count)"
      ]
    },
    {
      "cell_type": "code",
      "execution_count": null,
      "metadata": {
        "id": "kI-DPyvzagr6"
      },
      "outputs": [],
      "source": [
        "#Find all possible kmers\n",
        "all_possible_kmers = []\n",
        "for output in product('ACGT', repeat=4):\n",
        "  all_possible_kmers.append(''.join(output))\n",
        "print(all_possible_kmers)"
      ]
    },
    {
      "cell_type": "code",
      "execution_count": null,
      "metadata": {
        "id": "xIZO64MmP6oq"
      },
      "outputs": [],
      "source": [
        ""
      ]
    },
    {
      "cell_type": "code",
      "execution_count": null,
      "metadata": {
        "id": "Jc4auyMvbO_f"
      },
      "outputs": [],
      "source": [
        "# Matching\n",
        "result = {}\n",
        "for all in all_possible_kmers:\n",
        "  if all in count:\n",
        "    result[all] = count[all]\n",
        "  else:\n",
        "    result[all] = 0\n",
        "result"
      ]
    },
    {
      "cell_type": "code",
      "execution_count": null,
      "metadata": {
        "id": "HetLuk06y2gd"
      },
      "outputs": [],
      "source": [
        "for c in result:\n",
        "  print(result[c], end = ' ')"
      ]
    },
    {
      "cell_type": "code",
      "execution_count": null,
      "metadata": {
        "id": "D10QZXiC780J"
      },
      "outputs": [],
      "source": [
        "f = open('rosalind_kmer (1).txt', 'r')\n",
        "sequ=''\n",
        "#content=f.read().replace('\\n', '')\n",
        "for line in f:\n",
        "  if(line[0]=='>'): \n",
        "    continue\n",
        "  else:\n",
        "    newline=line.strip()\n",
        "    sequ+=newline\n",
        "\n",
        "sequ"
      ]
    },
    {
      "cell_type": "code",
      "execution_count": null,
      "metadata": {
        "id": "wzjARxbI8jhI"
      },
      "outputs": [],
      "source": [
        "#FOR HW1 #2\n",
        "cg_kmers = []\n",
        "for i in all_possible_kmers:\n",
        "  if 'CG' in i:\n",
        "    cg_kmers.append(i)\n",
        "len(cg_kmers)"
      ]
    },
    {
      "cell_type": "code",
      "source": [
        "#HW 2d(a)\n",
        "res = 0\n",
        "for n in range(1,1001):  \n",
        "  u = 200\n",
        "  s = 20\n",
        "  a = ((n-u)**2)/(2*(s**2))\n",
        "  res = res + np.exp(-a)  \n",
        "const = 1/res"
      ],
      "metadata": {
        "id": "kUXHJcki5nun"
      },
      "execution_count": null,
      "outputs": []
    },
    {
      "cell_type": "code",
      "source": [
        "#HW 2d(a)\n",
        "out = 0\n",
        "u = 200\n",
        "s = 20\n",
        "for n in range(1,1001):\n",
        "  a = ((n-u)**2)/(2*(s**2))\n",
        "  out = out + n*const*np.exp(-a)\n",
        "\n",
        "1000-out+1"
      ],
      "metadata": {
        "id": "GJi_pn60LayZ"
      },
      "execution_count": null,
      "outputs": []
    },
    {
      "cell_type": "code",
      "source": [
        "#HW 2d(b)\n",
        "res = 0\n",
        "for n in range(1,1001):  \n",
        "  u = 200\n",
        "  s = 100\n",
        "  a = ((n-u)**2)/(2*(s**2))\n",
        "  res = res + np.exp(-a)  \n",
        "const = 1/res"
      ],
      "metadata": {
        "id": "CFTQHthnhune"
      },
      "execution_count": null,
      "outputs": []
    },
    {
      "cell_type": "code",
      "source": [
        "#HW 2d(b)\n",
        "out = 0\n",
        "u = 200\n",
        "s = 100\n",
        "for n in range(1,1001):\n",
        "  a = ((n-u)**2)/(2*(s**2))\n",
        "  out = out + n*const*np.exp(-a)\n",
        "\n",
        "1000-out+1"
      ],
      "metadata": {
        "id": "7yj-ougZf23L"
      },
      "execution_count": null,
      "outputs": []
    },
    {
      "cell_type": "code",
      "source": [
        "#HW3 2a\n",
        "def hmVal(dc1, dc2, i):\n",
        "  #i is which cluster are we doing this time. For 1,1, i=0\n",
        "  c = [[0.1, 0.9], [0.5, 0], [0.9, 0.5]]\n",
        "  dist_target = np.sqrt((dc1-c[i][0])**2 + (dc2-c[i][1])**2)\n",
        "  f = np.exp(-0.5*dist_target)\n",
        "  \n",
        "  dp1 = np.sqrt((dc1-c[0][0])**2 + (dc2-c[0][1])**2) \n",
        "  dp2 = np.sqrt((dc1-c[1][0])**2 + (dc2-c[1][1])**2) \n",
        "  dp3 = np.sqrt((dc1-c[2][0])**2 + (dc2-c[2][1])**2)\n",
        "  sig = np.exp(-0.5*dp1) + np.exp(-0.5*dp2) + np.exp(-0.5*dp3)\n",
        "  \n",
        "  return f/sig"
      ],
      "metadata": {
        "id": "G_pJHhJOcCHk"
      },
      "execution_count": null,
      "outputs": []
    },
    {
      "cell_type": "code",
      "source": [
        "c1 = 9 #vary depending on datapoint of interest\n",
        "c2 = 0.1 #vary depending on datapoint of interest\n",
        "a = hmVal(c1,c2,0)\n",
        "b = hmVal(c1,c2,1)\n",
        "c = hmVal(c1,c2,2)\n",
        "\n",
        "print(a,b,c)"
      ],
      "metadata": {
        "id": "r5F6EdHVcmAJ"
      },
      "execution_count": null,
      "outputs": []
    },
    {
      "cell_type": "markdown",
      "source": [
        "# HW3"
      ],
      "metadata": {
        "id": "wV6kspJs0HD-"
      }
    },
    {
      "cell_type": "code",
      "source": [
        "#HW3 2b\n",
        "def dot_prod(v1,v2):\n",
        "  res = 0\n",
        "  for idx in range(len(v1)):\n",
        "      res = res + v1[idx]*v2[idx]\n",
        "  return res\n",
        "\n",
        "def Mstep(hm, dp):\n",
        "  v1 = [1,1,1,1,1,1]\n",
        "  return dot_prod(hm, dp) / dot_prod(hm, v1)"
      ],
      "metadata": {
        "id": "eTptXTK3V1jf"
      },
      "execution_count": null,
      "outputs": []
    },
    {
      "cell_type": "code",
      "source": [
        "hm1 = [0.33,0.31,0.29,0.34,0.34,0.27]\n",
        "hm2 = [0.37, 0.39, 0.41, 0.28, 0.29, 0.33]\n",
        "hm3 = [0.3, 0.31, 0.31, 0.38, 0.37, 0.4]\n",
        "\n",
        "dp1 = [0.1,0.2,0.3,1,0.8,9]\n",
        "dp2 = [0.2,0.1,0,1.2,1,0.1]\n",
        "\n",
        "print(\"Updated cluster 1:\", Mstep(hm1,dp1), Mstep(hm1,dp2))\n",
        "print(\"Updated cluster 2:\", Mstep(hm2,dp1), Mstep(hm2,dp2))\n",
        "print(\"Updated cluster 3:\", Mstep(hm3,dp1), Mstep(hm3,dp2))"
      ],
      "metadata": {
        "id": "Vzs1QyUqYbAt"
      },
      "execution_count": null,
      "outputs": []
    },
    {
      "cell_type": "code",
      "source": [
        "#HW3 2c\n",
        "def hmValNewt(dc1, dc2, i):\n",
        "  #i is which cluster are we doing this time. For 1,1, i=0\n",
        "  c = [[0.1, 0.9], [0.5, 0], [0.9, 0.5]]\n",
        "  dist_target = np.sqrt((dc1-c[i][0])**2 + (dc2-c[i][1])**2)\n",
        "  f = 1/(dist_target**2)\n",
        "  \n",
        "  dp1 = 1/((dc1-c[0][0])**2 + (dc2-c[0][1])**2) \n",
        "  dp2 = 1/((dc1-c[1][0])**2 + (dc2-c[1][1])**2) \n",
        "  dp3 = 1/((dc1-c[2][0])**2 + (dc2-c[2][1])**2)\n",
        "  sig = dp1+dp2+dp3\n",
        "  \n",
        "  return f/sig"
      ],
      "metadata": {
        "id": "cqrfyYGpxCEd"
      },
      "execution_count": null,
      "outputs": []
    },
    {
      "cell_type": "code",
      "source": [
        "c1 = 9\n",
        "c2 = 0.1\n",
        "a = hmValNewt(c1,c2,0)\n",
        "b = hmValNewt(c1,c2,1)\n",
        "c = hmValNewt(c1,c2,2)\n",
        "\n",
        "print(a,b,c)"
      ],
      "metadata": {
        "id": "-pTcF3dhZf0D"
      },
      "execution_count": null,
      "outputs": []
    },
    {
      "cell_type": "code",
      "source": [
        "#HW3d\n",
        "hm1 = [0.24, 0.12, 0.04, 0.3, 0.3, 0.3]\n",
        "hm2 = [0.59, 0.76, 0.9, 0.16, 0.14, 0.33]\n",
        "hm3 = [0.16, 0.12, 0.06, 0.54, 0.57, 0.37]\n",
        "\n",
        "dp1 = [0.1,0.2,0.3,1,0.8,9]\n",
        "dp2 = [0.2,0.1,0,1.2,1,0.1]\n",
        "\n",
        "print(\"Updated cluster 1:\", Mstep(hm1,dp1), Mstep(hm1,dp2))\n",
        "print(\"Updated cluster 2:\", Mstep(hm2,dp1), Mstep(hm2,dp2))\n",
        "print(\"Updated cluster 3:\", Mstep(hm3,dp1), Mstep(hm3,dp2))"
      ],
      "metadata": {
        "id": "860J1YMnmdDv"
      },
      "execution_count": null,
      "outputs": []
    },
    {
      "cell_type": "code",
      "source": [
        ""
      ],
      "metadata": {
        "id": "PDa8Lv47kcmt"
      },
      "execution_count": null,
      "outputs": []
    },
    {
      "cell_type": "markdown",
      "source": [
        "# HW 4"
      ],
      "metadata": {
        "id": "Chqq9WNZ7eoL"
      }
    },
    {
      "cell_type": "code",
      "source": [
        ""
      ],
      "metadata": {
        "id": "yc8mfrw7VVbl"
      },
      "execution_count": null,
      "outputs": []
    },
    {
      "cell_type": "code",
      "source": [
        "#Q1\n",
        "class TrieNode:\n",
        "    def __init__(self, char):\n",
        "        self.char = char\n",
        "        self.is_end = False\n",
        "        self.children = {}\n",
        "\n",
        "class Trie(object):\n",
        "    def __init__(self): \n",
        "        self.root = TrieNode(\"\")  \n",
        "\n",
        "    def insert(self, word):\n",
        "        node = self.root\n",
        "        for char in word:\n",
        "            if char in node.children:\n",
        "                node = node.children[char]\n",
        "            else:\n",
        "                new_node = TrieNode(char)\n",
        "                node.children[char] = new_node\n",
        "                node = new_node        \n",
        "        node.is_end = True\n",
        "         \n",
        "    def dfs(self, node, pre): \n",
        "        if node.is_end:\n",
        "            self.output.append((pre + node.char))        \n",
        "        for child in node.children.values():\n",
        "            self.dfs(child, pre + node.char)\n",
        "         \n",
        "    def search(self, x):        \n",
        "        node = self.root         \n",
        "        for char in x:\n",
        "            if char in node.children:\n",
        "                node = node.children[char]\n",
        "            else:              \n",
        "                return []       \n",
        "        self.output = []\n",
        "        self.dfs(node, x[:-1])\n",
        "        return self.output"
      ],
      "metadata": {
        "id": "4uaTkxw3WQUr"
      },
      "execution_count": null,
      "outputs": []
    },
    {
      "cell_type": "code",
      "source": [
        "s = ['tah','acta','hhctnd','ca','hhca','tatt','tac','actna','hhctna','ctn']\n",
        "tr = Trie()\n",
        "for i in s:\n",
        "  tr.insert(i)"
      ],
      "metadata": {
        "id": "-fi7mVrPZyEL"
      },
      "execution_count": null,
      "outputs": []
    },
    {
      "cell_type": "code",
      "source": [
        "tr.search('')"
      ],
      "metadata": {
        "colab": {
          "base_uri": "https://localhost:8080/"
        },
        "id": "XAys05GpaPg8",
        "outputId": "51b61803-f693-4b5d-b590-aff82a3842de"
      },
      "execution_count": null,
      "outputs": [
        {
          "output_type": "execute_result",
          "data": {
            "text/plain": [
              "['tah',\n",
              " 'tatt',\n",
              " 'tac',\n",
              " 'acta',\n",
              " 'actna',\n",
              " 'hhctnd',\n",
              " 'hhctna',\n",
              " 'hhca',\n",
              " 'ca',\n",
              " 'ctn']"
            ]
          },
          "metadata": {},
          "execution_count": 3
        }
      ]
    },
    {
      "cell_type": "code",
      "source": [
        "#Q2\n",
        "text = 'tactnahhctndhhctna'\n",
        "count = 0\n",
        "for char in text:\n",
        "  fromTrie = tr.search(char)\n",
        "  #Make a list of sizes of fromTrie\n",
        "  sizes = []\n",
        "  for trieWs in fromTrie:\n",
        "    sizes.append(len(trieWs))\n",
        "\n",
        "  for trieW in fromTrie:\n",
        "    if trieW in text[count:count+max(sizes)]:\n",
        "      print('Match in position',count,'for pattern',trieW)\n",
        "  count+=1\n"
      ],
      "metadata": {
        "colab": {
          "base_uri": "https://localhost:8080/"
        },
        "id": "YfnKB6jCaUKG",
        "outputId": "8b6f690b-6339-48c1-83bb-e821176e0d63"
      },
      "execution_count": null,
      "outputs": [
        {
          "output_type": "stream",
          "name": "stdout",
          "text": [
            "Match in position 0 for pattern tac\n",
            "Match in position 1 for pattern actna\n",
            "Match in position 2 for pattern ctn\n",
            "Match in position 6 for pattern hhctnd\n",
            "Match in position 8 for pattern ctn\n",
            "Match in position 12 for pattern hhctna\n",
            "Match in position 14 for pattern ctn\n"
          ]
        }
      ]
    },
    {
      "cell_type": "code",
      "source": [
        "#Q3\n",
        "text = 'aaaaaaaaagaaa$'\n",
        "suffixtree = Trie()\n",
        "for i in range(0, len(text)):\n",
        "  suffixtree.insert(text[i:])\n",
        "tmp = suffixtree.search('')\n",
        "tmp.sort(reverse=True, key = lambda x:len(x))\n",
        "print(len(tmp))\n",
        "tmp"
      ],
      "metadata": {
        "colab": {
          "base_uri": "https://localhost:8080/"
        },
        "id": "9gZEgfRKztO1",
        "outputId": "cfe07bbb-7d70-4cfc-bcb8-d1f90307be48"
      },
      "execution_count": null,
      "outputs": [
        {
          "output_type": "stream",
          "name": "stdout",
          "text": [
            "14\n"
          ]
        },
        {
          "output_type": "execute_result",
          "data": {
            "text/plain": [
              "['aaaaaaaaagaaa$',\n",
              " 'aaaaaaaagaaa$',\n",
              " 'aaaaaaagaaa$',\n",
              " 'aaaaaagaaa$',\n",
              " 'aaaaagaaa$',\n",
              " 'aaaagaaa$',\n",
              " 'aaagaaa$',\n",
              " 'aagaaa$',\n",
              " 'agaaa$',\n",
              " 'gaaa$',\n",
              " 'aaa$',\n",
              " 'aa$',\n",
              " 'a$',\n",
              " '$']"
            ]
          },
          "metadata": {},
          "execution_count": 25
        }
      ]
    },
    {
      "cell_type": "code",
      "source": [
        "#Q4 Suffix Array\n",
        "sfa = {}\n",
        "for i in range(len(tmp)):\n",
        "  sfa[i] = tmp[i]\n",
        "\n",
        "new = sorted(sfa.items(), key = lambda x : x[1])\n",
        "new\n",
        "\n",
        "#The suffix array is obtained from the key of the dictionary\n",
        "sfxa = []\n",
        "for i in new:\n",
        "  sfxa.append(i[0])\n",
        "#sfxa\n",
        "new"
      ],
      "metadata": {
        "colab": {
          "base_uri": "https://localhost:8080/"
        },
        "id": "Zy6G6dsx0OA5",
        "outputId": "f1ff9b65-b285-464c-fd89-b39c075dd262"
      },
      "execution_count": null,
      "outputs": [
        {
          "output_type": "execute_result",
          "data": {
            "text/plain": [
              "[(18, '$'),\n",
              " (17, 'a$'),\n",
              " (1, 'actnahhctndhhctna$'),\n",
              " (5, 'ahhctndhhctna$'),\n",
              " (14, 'ctna$'),\n",
              " (2, 'ctnahhctndhhctna$'),\n",
              " (8, 'ctndhhctna$'),\n",
              " (11, 'dhhctna$'),\n",
              " (13, 'hctna$'),\n",
              " (7, 'hctndhhctna$'),\n",
              " (12, 'hhctna$'),\n",
              " (6, 'hhctndhhctna$'),\n",
              " (16, 'na$'),\n",
              " (4, 'nahhctndhhctna$'),\n",
              " (10, 'ndhhctna$'),\n",
              " (0, 'tactnahhctndhhctna$'),\n",
              " (15, 'tna$'),\n",
              " (3, 'tnahhctndhhctna$'),\n",
              " (9, 'tndhhctna$')]"
            ]
          },
          "metadata": {},
          "execution_count": 6
        }
      ]
    },
    {
      "cell_type": "code",
      "source": [
        "#Q5 BWT\n",
        "#Get cyclic rotation of text\n",
        "text = 'banamabananas$'\n",
        "cyc = [text]\n",
        "for i in range(0, len(text)-1):\n",
        "  tmp1 = text[-1] + text[0:-1]\n",
        "  text = tmp1\n",
        "  cyc.append(text)\n",
        "cyc"
      ],
      "metadata": {
        "colab": {
          "base_uri": "https://localhost:8080/"
        },
        "id": "W6iZPrzZhsH4",
        "outputId": "b44a1905-a91c-441e-d248-743f51795068"
      },
      "execution_count": null,
      "outputs": [
        {
          "output_type": "execute_result",
          "data": {
            "text/plain": [
              "['banamabananas$',\n",
              " '$banamabananas',\n",
              " 's$banamabanana',\n",
              " 'as$banamabanan',\n",
              " 'nas$banamabana',\n",
              " 'anas$banamaban',\n",
              " 'nanas$banamaba',\n",
              " 'ananas$banamab',\n",
              " 'bananas$banama',\n",
              " 'abananas$banam',\n",
              " 'mabananas$bana',\n",
              " 'amabananas$ban',\n",
              " 'namabananas$ba',\n",
              " 'anamabananas$b']"
            ]
          },
          "metadata": {},
          "execution_count": 1
        }
      ]
    },
    {
      "cell_type": "code",
      "source": [
        "#Sort it lexicographically\n",
        "cyc.sort()\n",
        "cyc"
      ],
      "metadata": {
        "colab": {
          "base_uri": "https://localhost:8080/"
        },
        "id": "VxdtpWWXrqCD",
        "outputId": "85c2b31f-dc0b-4b3e-a609-5cf49a44a276"
      },
      "execution_count": null,
      "outputs": [
        {
          "output_type": "execute_result",
          "data": {
            "text/plain": [
              "['$tactnahhctndhhctna',\n",
              " 'a$tactnahhctndhhctn',\n",
              " 'actnahhctndhhctna$t',\n",
              " 'ahhctndhhctna$tactn',\n",
              " 'ctna$tactnahhctndhh',\n",
              " 'ctnahhctndhhctna$ta',\n",
              " 'ctndhhctna$tactnahh',\n",
              " 'dhhctna$tactnahhctn',\n",
              " 'hctna$tactnahhctndh',\n",
              " 'hctndhhctna$tactnah',\n",
              " 'hhctna$tactnahhctnd',\n",
              " 'hhctndhhctna$tactna',\n",
              " 'na$tactnahhctndhhct',\n",
              " 'nahhctndhhctna$tact',\n",
              " 'ndhhctna$tactnahhct',\n",
              " 'tactnahhctndhhctna$',\n",
              " 'tna$tactnahhctndhhc',\n",
              " 'tnahhctndhhctna$tac',\n",
              " 'tndhhctna$tactnahhc']"
            ]
          },
          "metadata": {},
          "execution_count": 8
        }
      ]
    },
    {
      "cell_type": "code",
      "source": [
        "#Get the BWT from last char of each row\n",
        "bwt = []\n",
        "for c in cyc:\n",
        "  bwt.append(c[-1])\n",
        "\n",
        "#Extract as string\n",
        "bwt_str = ''\n",
        "for i in bwt:\n",
        "  bwt_str += i    \n",
        "print(bwt_str)"
      ],
      "metadata": {
        "colab": {
          "base_uri": "https://localhost:8080/"
        },
        "id": "in0HtaETq1zN",
        "outputId": "f539ae6d-e436-4f63-9b41-9b33eae0e7e9"
      },
      "execution_count": null,
      "outputs": [
        {
          "output_type": "stream",
          "name": "stdout",
          "text": [
            "antnhahnhhdattt$ccc\n"
          ]
        }
      ]
    },
    {
      "cell_type": "code",
      "source": [
        "#Q7\n",
        "#Get last col\n",
        "tmp={}\n",
        "lastcol=[]\n",
        "for i in bwt:\n",
        "  if i =='$':\n",
        "    lastcol.append(i)\n",
        "  elif i not in tmp:\n",
        "    tmp[i] = 1\n",
        "    lastcol.append(i + str(tmp[i]))\n",
        "  elif i in tmp:\n",
        "    tmp[i] = tmp[i] + 1\n",
        "    lastcol.append(i + str(tmp[i]))\n",
        "\n",
        "print(\"Last Column is\",lastcol)\n",
        "\n",
        "firstcol = lastcol\n",
        "firstcol.sort()\n",
        "print(\"First Column is\",firstcol)\n",
        "\n",
        "#Get lastToFirst()\n",
        "lastToFirst = sfxa\n",
        "print(\"Last to First is\", lastToFirst)\n"
      ],
      "metadata": {
        "colab": {
          "base_uri": "https://localhost:8080/"
        },
        "id": "tWmtMhnavWcE",
        "outputId": "fe8b5652-9a9e-4930-cd9a-0c74d42919e4"
      },
      "execution_count": null,
      "outputs": [
        {
          "output_type": "stream",
          "name": "stdout",
          "text": [
            "Last Column is ['a1', 'n1', 't1', 'n2', 'h1', 'a2', 'h2', 'n3', 'h3', 'h4', 'd1', 'a3', 't2', 't3', 't4', '$', 'c1', 'c2', 'c3']\n",
            "First Column is ['$', 'a1', 'a2', 'a3', 'c1', 'c2', 'c3', 'd1', 'h1', 'h2', 'h3', 'h4', 'n1', 'n2', 'n3', 't1', 't2', 't3', 't4']\n",
            "Last to First is [18, 17, 1, 5, 14, 2, 8, 11, 13, 7, 12, 6, 16, 4, 10, 0, 15, 3, 9]\n"
          ]
        }
      ]
    },
    {
      "cell_type": "code",
      "source": [
        ""
      ],
      "metadata": {
        "id": "hbSg9f_84bJy"
      },
      "execution_count": null,
      "outputs": []
    },
    {
      "cell_type": "code",
      "source": [
        ""
      ],
      "metadata": {
        "id": "bZAaJK5Q9iEZ"
      },
      "execution_count": null,
      "outputs": []
    },
    {
      "cell_type": "code",
      "source": [
        "def PreprocessBWT(bwt, alphabet = ['$', 'a', 'c', 't', 'n', 'h', 'd']):\n",
        "    \"\"\"\n",
        "    Preprocess the Burrows-Wheeler Transform bwt of some text\n",
        "    and compute as a result:\n",
        "    * starts - for each character C in bwt, starts[C] is the first position \n",
        "        of this character in the sorted array of \n",
        "        all characters of the text.\n",
        "    * counts - for each character C in bwt and each position P in bwt,\n",
        "        occ_count_before[C][P] is the number of occurrences of character C in bwt\n",
        "        from position 0 to position P inclusive.\n",
        "    \"\"\"\n",
        "    l = len(bwt)\n",
        "    counts = dict()\n",
        "    starts = dict()\n",
        "    for char in alphabet:\n",
        "        counts[char] = [0] * (l + 1)\n",
        "    for i in range(l):\n",
        "        currChar = bwt[i]\n",
        "        for char, count in counts.items():\n",
        "            counts[char][i+1] = counts[char][i]\n",
        "        counts[currChar][i+1] += 1\n",
        "    currIndex = 0\n",
        "    for char in sorted(alphabet):\n",
        "        starts[char] = currIndex\n",
        "        currIndex += counts[char][l]\n",
        "    return starts, counts\n",
        "\n",
        "def CountOccurrences(pattern, bwt, starts, counts):\n",
        "    \"\"\"\n",
        "    Compute the number of occurrences of string pattern in the text\n",
        "    given only Burrows-Wheeler Transform bwt of the text and additional\n",
        "    information we get from the preprocessing stage - starts and counts.\n",
        "    \"\"\"\n",
        "    top = 0\n",
        "    bottom = len(bwt) - 1\n",
        "    currIndex = len(pattern) - 1\n",
        "    print(top, bottom)\n",
        "    while top <= bottom:\n",
        "        if currIndex >= 0:\n",
        "            symbol = pattern[currIndex]\n",
        "            currIndex -= 1\n",
        "            if counts[symbol][bottom+1] - counts[symbol][top] > 0:\n",
        "                \n",
        "                top = starts[symbol] + counts[symbol][top]\n",
        "                bottom = starts[symbol] + counts[symbol][bottom+1] - 1\n",
        "                print(top, bottom)\n",
        "            else:\n",
        "                return 0\n",
        "        else:\n",
        "            return bottom - top + 1"
      ],
      "metadata": {
        "id": "_fB4ByJvD__n"
      },
      "execution_count": null,
      "outputs": []
    },
    {
      "cell_type": "code",
      "source": [
        "pattern = 'ctn'\n",
        "\n",
        "starts, occ_counts_before = PreprocessBWT(bwt)\n",
        "CountOccurrences(pattern, bwt, starts, occ_counts_before)\n",
        "\n",
        "#a=BWMatching('tactnahhctndhhctna', lastcol, 'ctn', lastToFirst)"
      ],
      "metadata": {
        "colab": {
          "base_uri": "https://localhost:8080/"
        },
        "id": "BMIi-IteD-VB",
        "outputId": "2d65fa5a-4a81-4f10-9304-9ad5770f3cb7"
      },
      "execution_count": null,
      "outputs": [
        {
          "output_type": "stream",
          "name": "stdout",
          "text": [
            "0 18\n",
            "12 14\n",
            "16 18\n",
            "4 6\n"
          ]
        },
        {
          "output_type": "execute_result",
          "data": {
            "text/plain": [
              "3"
            ]
          },
          "metadata": {},
          "execution_count": 23
        }
      ]
    },
    {
      "cell_type": "code",
      "source": [
        "#Q7\n",
        "def countOcc(symbol, idx, lastcol, text):\n",
        "  idx_count = {}\n",
        "  a = list(''.join(set(text)))\n",
        "  a.sort()\n",
        "\n",
        "  for c in a:\n",
        "    tmp = []\n",
        "    for i in range(len(lastcol) + 1):\n",
        "      if i == 0:\n",
        "        tmp.append(i)\n",
        "      else:\n",
        "        if char in lastcol[i-1]:\n",
        "          tmp.append(tmp[-1]+1)\n",
        "        else:\n",
        "          tmp.append(tmp[-1])\n",
        "    idx_count[char] = tmp\n",
        "  return idx_count[symbol][idx]\n",
        "\n",
        "def ret_first(symbol):\n",
        "  for i in range(len(firstcol)):\n",
        "    if symbol in firstcol[i]:\n",
        "      return i\n",
        "\n",
        "def BWMatching(text, firstcol, lastcol, pattern):\n",
        "  top = 0\n",
        "  bottom = len(bwt) - 1\n",
        "  currIndex = 0\n",
        "  while top <= bottom:\n",
        "      if len(pattern) != 0:\n",
        "          symbol = pattern[-1]\n",
        "          pattern = pattern[:-1]\n",
        "          if any(symbol in i for i in lastcol[top:bottom]):\n",
        "              print(top, bottom)\n",
        "              top = ret_first(symbol) + countOcc(symbol, top, lastcol, text)\n",
        "              top = ret_first(symbol) + countOcc(symbol, bottom+1, lastcol, text)-1\n",
        "              print(top, bottom)\n",
        "          else:\n",
        "              return 0\n",
        "      else:\n",
        "          return bottom - top + 1\n",
        "  "
      ],
      "metadata": {
        "id": "quzDjfWxSdov"
      },
      "execution_count": null,
      "outputs": []
    },
    {
      "cell_type": "code",
      "source": [
        ""
      ],
      "metadata": {
        "id": "utnNzE7lT5lD"
      },
      "execution_count": null,
      "outputs": []
    },
    {
      "cell_type": "code",
      "source": [
        ""
      ],
      "metadata": {
        "id": "5y4L2kfrz-8x"
      },
      "execution_count": null,
      "outputs": []
    },
    {
      "cell_type": "markdown",
      "source": [
        "# FINAL"
      ],
      "metadata": {
        "id": "662Qss1sz_Y-"
      }
    },
    {
      "cell_type": "code",
      "source": [
        "uploaded = files.upload()"
      ],
      "metadata": {
        "colab": {
          "resources": {
            "http://localhost:8080/nbextensions/google.colab/files.js": {
              "data": "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",
              "ok": true,
              "headers": [
                [
                  "content-type",
                  "application/javascript"
                ]
              ],
              "status": 200,
              "status_text": ""
            }
          },
          "base_uri": "https://localhost:8080/",
          "height": 74
        },
        "id": "jrF4tzXD0APD",
        "outputId": "7ac1a022-d7ac-4303-b129-f0deef30064d"
      },
      "execution_count": null,
      "outputs": [
        {
          "output_type": "display_data",
          "data": {
            "text/plain": [
              "<IPython.core.display.HTML object>"
            ],
            "text/html": [
              "\n",
              "     <input type=\"file\" id=\"files-97f2ad30-b889-4c10-9ff9-24d655a7f787\" name=\"files[]\" multiple disabled\n",
              "        style=\"border:none\" />\n",
              "     <output id=\"result-97f2ad30-b889-4c10-9ff9-24d655a7f787\">\n",
              "      Upload widget is only available when the cell has been executed in the\n",
              "      current browser session. Please rerun this cell to enable.\n",
              "      </output>\n",
              "      <script src=\"/nbextensions/google.colab/files.js\"></script> "
            ]
          },
          "metadata": {}
        },
        {
          "output_type": "stream",
          "name": "stdout",
          "text": [
            "Saving problem1.tsv to problem1.tsv\n"
          ]
        }
      ]
    },
    {
      "cell_type": "code",
      "source": [
        "df = pd.read_csv('problem1.tsv', sep = '\\t', header=None)\n",
        "df"
      ],
      "metadata": {
        "colab": {
          "base_uri": "https://localhost:8080/",
          "height": 424
        },
        "id": "kYWrBn6V0TgC",
        "outputId": "2294d0cf-4f5c-4565-b218-466e4c7ea4ae"
      },
      "execution_count": null,
      "outputs": [
        {
          "output_type": "execute_result",
          "data": {
            "text/plain": [
              "             0          1\n",
              "0     0.072435   0.004788\n",
              "1    -0.093958   0.118346\n",
              "2     1.637295   0.021868\n",
              "3     0.266178  -0.042178\n",
              "4     0.672105  -0.403411\n",
              "..         ...        ...\n",
              "195   9.864852   8.486013\n",
              "196   9.934785   9.162691\n",
              "197  11.232787   8.870784\n",
              "198   7.948785  10.471377\n",
              "199  10.613488  10.619704\n",
              "\n",
              "[200 rows x 2 columns]"
            ],
            "text/html": [
              "\n",
              "  <div id=\"df-41ecdaa1-9333-487b-9207-4bf4bb711c76\">\n",
              "    <div class=\"colab-df-container\">\n",
              "      <div>\n",
              "<style scoped>\n",
              "    .dataframe tbody tr th:only-of-type {\n",
              "        vertical-align: middle;\n",
              "    }\n",
              "\n",
              "    .dataframe tbody tr th {\n",
              "        vertical-align: top;\n",
              "    }\n",
              "\n",
              "    .dataframe thead th {\n",
              "        text-align: right;\n",
              "    }\n",
              "</style>\n",
              "<table border=\"1\" class=\"dataframe\">\n",
              "  <thead>\n",
              "    <tr style=\"text-align: right;\">\n",
              "      <th></th>\n",
              "      <th>0</th>\n",
              "      <th>1</th>\n",
              "    </tr>\n",
              "  </thead>\n",
              "  <tbody>\n",
              "    <tr>\n",
              "      <th>0</th>\n",
              "      <td>0.072435</td>\n",
              "      <td>0.004788</td>\n",
              "    </tr>\n",
              "    <tr>\n",
              "      <th>1</th>\n",
              "      <td>-0.093958</td>\n",
              "      <td>0.118346</td>\n",
              "    </tr>\n",
              "    <tr>\n",
              "      <th>2</th>\n",
              "      <td>1.637295</td>\n",
              "      <td>0.021868</td>\n",
              "    </tr>\n",
              "    <tr>\n",
              "      <th>3</th>\n",
              "      <td>0.266178</td>\n",
              "      <td>-0.042178</td>\n",
              "    </tr>\n",
              "    <tr>\n",
              "      <th>4</th>\n",
              "      <td>0.672105</td>\n",
              "      <td>-0.403411</td>\n",
              "    </tr>\n",
              "    <tr>\n",
              "      <th>...</th>\n",
              "      <td>...</td>\n",
              "      <td>...</td>\n",
              "    </tr>\n",
              "    <tr>\n",
              "      <th>195</th>\n",
              "      <td>9.864852</td>\n",
              "      <td>8.486013</td>\n",
              "    </tr>\n",
              "    <tr>\n",
              "      <th>196</th>\n",
              "      <td>9.934785</td>\n",
              "      <td>9.162691</td>\n",
              "    </tr>\n",
              "    <tr>\n",
              "      <th>197</th>\n",
              "      <td>11.232787</td>\n",
              "      <td>8.870784</td>\n",
              "    </tr>\n",
              "    <tr>\n",
              "      <th>198</th>\n",
              "      <td>7.948785</td>\n",
              "      <td>10.471377</td>\n",
              "    </tr>\n",
              "    <tr>\n",
              "      <th>199</th>\n",
              "      <td>10.613488</td>\n",
              "      <td>10.619704</td>\n",
              "    </tr>\n",
              "  </tbody>\n",
              "</table>\n",
              "<p>200 rows × 2 columns</p>\n",
              "</div>\n",
              "      <button class=\"colab-df-convert\" onclick=\"convertToInteractive('df-41ecdaa1-9333-487b-9207-4bf4bb711c76')\"\n",
              "              title=\"Convert this dataframe to an interactive table.\"\n",
              "              style=\"display:none;\">\n",
              "        \n",
              "  <svg xmlns=\"http://www.w3.org/2000/svg\" height=\"24px\"viewBox=\"0 0 24 24\"\n",
              "       width=\"24px\">\n",
              "    <path d=\"M0 0h24v24H0V0z\" fill=\"none\"/>\n",
              "    <path d=\"M18.56 5.44l.94 2.06.94-2.06 2.06-.94-2.06-.94-.94-2.06-.94 2.06-2.06.94zm-11 1L8.5 8.5l.94-2.06 2.06-.94-2.06-.94L8.5 2.5l-.94 2.06-2.06.94zm10 10l.94 2.06.94-2.06 2.06-.94-2.06-.94-.94-2.06-.94 2.06-2.06.94z\"/><path d=\"M17.41 7.96l-1.37-1.37c-.4-.4-.92-.59-1.43-.59-.52 0-1.04.2-1.43.59L10.3 9.45l-7.72 7.72c-.78.78-.78 2.05 0 2.83L4 21.41c.39.39.9.59 1.41.59.51 0 1.02-.2 1.41-.59l7.78-7.78 2.81-2.81c.8-.78.8-2.07 0-2.86zM5.41 20L4 18.59l7.72-7.72 1.47 1.35L5.41 20z\"/>\n",
              "  </svg>\n",
              "      </button>\n",
              "      \n",
              "  <style>\n",
              "    .colab-df-container {\n",
              "      display:flex;\n",
              "      flex-wrap:wrap;\n",
              "      gap: 12px;\n",
              "    }\n",
              "\n",
              "    .colab-df-convert {\n",
              "      background-color: #E8F0FE;\n",
              "      border: none;\n",
              "      border-radius: 50%;\n",
              "      cursor: pointer;\n",
              "      display: none;\n",
              "      fill: #1967D2;\n",
              "      height: 32px;\n",
              "      padding: 0 0 0 0;\n",
              "      width: 32px;\n",
              "    }\n",
              "\n",
              "    .colab-df-convert:hover {\n",
              "      background-color: #E2EBFA;\n",
              "      box-shadow: 0px 1px 2px rgba(60, 64, 67, 0.3), 0px 1px 3px 1px rgba(60, 64, 67, 0.15);\n",
              "      fill: #174EA6;\n",
              "    }\n",
              "\n",
              "    [theme=dark] .colab-df-convert {\n",
              "      background-color: #3B4455;\n",
              "      fill: #D2E3FC;\n",
              "    }\n",
              "\n",
              "    [theme=dark] .colab-df-convert:hover {\n",
              "      background-color: #434B5C;\n",
              "      box-shadow: 0px 1px 3px 1px rgba(0, 0, 0, 0.15);\n",
              "      filter: drop-shadow(0px 1px 2px rgba(0, 0, 0, 0.3));\n",
              "      fill: #FFFFFF;\n",
              "    }\n",
              "  </style>\n",
              "\n",
              "      <script>\n",
              "        const buttonEl =\n",
              "          document.querySelector('#df-41ecdaa1-9333-487b-9207-4bf4bb711c76 button.colab-df-convert');\n",
              "        buttonEl.style.display =\n",
              "          google.colab.kernel.accessAllowed ? 'block' : 'none';\n",
              "\n",
              "        async function convertToInteractive(key) {\n",
              "          const element = document.querySelector('#df-41ecdaa1-9333-487b-9207-4bf4bb711c76');\n",
              "          const dataTable =\n",
              "            await google.colab.kernel.invokeFunction('convertToInteractive',\n",
              "                                                     [key], {});\n",
              "          if (!dataTable) return;\n",
              "\n",
              "          const docLinkHtml = 'Like what you see? Visit the ' +\n",
              "            '<a target=\"_blank\" href=https://colab.research.google.com/notebooks/data_table.ipynb>data table notebook</a>'\n",
              "            + ' to learn more about interactive tables.';\n",
              "          element.innerHTML = '';\n",
              "          dataTable['output_type'] = 'display_data';\n",
              "          await google.colab.output.renderOutput(dataTable, element);\n",
              "          const docLink = document.createElement('div');\n",
              "          docLink.innerHTML = docLinkHtml;\n",
              "          element.appendChild(docLink);\n",
              "        }\n",
              "      </script>\n",
              "    </div>\n",
              "  </div>\n",
              "  "
            ]
          },
          "metadata": {},
          "execution_count": 6
        }
      ]
    }
  ],
  "metadata": {
    "colab": {
      "name": "121_hw.ipynb",
      "provenance": []
    },
    "kernelspec": {
      "display_name": "Python 3",
      "name": "python3"
    },
    "language_info": {
      "name": "python"
    }
  },
  "nbformat": 4,
  "nbformat_minor": 0
}