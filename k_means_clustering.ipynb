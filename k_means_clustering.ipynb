{
  "nbformat": 4,
  "nbformat_minor": 0,
  "metadata": {
    "colab": {
      "name": "k-means clustering",
      "provenance": [],
      "collapsed_sections": []
    },
    "kernelspec": {
      "name": "python3",
      "display_name": "Python 3"
    },
    "language_info": {
      "name": "python"
    }
  },
  "cells": [
    {
      "cell_type": "code",
      "execution_count": null,
      "metadata": {
        "id": "evDKEOBNlPCU"
      },
      "outputs": [],
      "source": [
        "from google.colab import files\n",
        "import numpy as np\n",
        "import pandas as pd\n",
        "import matplotlib.pyplot as plt\n",
        "from sklearn.impute import KNNImputer\n",
        "from scipy.spatial import distance\n",
        "\n",
        "from sklearn.decomposition import PCA\n",
        "from sklearn.preprocessing import scale\n",
        "from sklearn.mixture import GaussianMixture"
      ]
    },
    {
      "cell_type": "code",
      "source": [
        "uploaded = files.upload()"
      ],
      "metadata": {
        "id": "JynhNErFrOUA",
        "colab": {
          "resources": {
            "http://localhost:8080/nbextensions/google.colab/files.js": {
              "data": "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",
              "ok": true,
              "headers": [
                [
                  "content-type",
                  "application/javascript"
                ]
              ],
              "status": 200,
              "status_text": ""
            }
          },
          "base_uri": "https://localhost:8080/",
          "height": 74
        },
        "outputId": "b2802348-c3b7-4260-92b2-84ca5908f651"
      },
      "execution_count": null,
      "outputs": [
        {
          "output_type": "display_data",
          "data": {
            "text/plain": [
              "<IPython.core.display.HTML object>"
            ],
            "text/html": [
              "\n",
              "     <input type=\"file\" id=\"files-1fa47504-d3bc-4219-b8f0-1a4aa857cc74\" name=\"files[]\" multiple disabled\n",
              "        style=\"border:none\" />\n",
              "     <output id=\"result-1fa47504-d3bc-4219-b8f0-1a4aa857cc74\">\n",
              "      Upload widget is only available when the cell has been executed in the\n",
              "      current browser session. Please rerun this cell to enable.\n",
              "      </output>\n",
              "      <script src=\"/nbextensions/google.colab/files.js\"></script> "
            ]
          },
          "metadata": {}
        },
        {
          "output_type": "stream",
          "name": "stdout",
          "text": [
            "Saving yeast.tsv to yeast.tsv\n"
          ]
        }
      ]
    },
    {
      "cell_type": "markdown",
      "source": [
        "# Data retrieval, pre-processing, and parameter Setup\n",
        "\n",
        "Pre-processing includes imputation and shifting.\n",
        "\n",
        "Parameter setup includes k (cluster number) and SSE difference threshold."
      ],
      "metadata": {
        "id": "mpnK7SZ2Ofc5"
      }
    },
    {
      "cell_type": "code",
      "source": [
        "#DATA PRE-PROCESSING\n",
        "\n",
        "#Access the data\n",
        "yeast = pd.read_csv('yeast.tsv', sep = '\\t')\n",
        "\n",
        "#Fill out missing data with df.interpolate() for row-wise interpolation\n",
        "pd.set_option('display.max_rows', 10)\n",
        "yeast = yeast.interpolate(axis=1)\n",
        "\n",
        "#Some rows don't have enough information to interpolate, so perform column-wise interpolation\n",
        "yeast = yeast.interpolate(axis=0)\n",
        "\n",
        "yeast.index -= 1 #shift index to match yeast dataframe\n",
        "print(yeast)"
      ],
      "metadata": {
        "colab": {
          "base_uri": "https://localhost:8080/"
        },
        "id": "sI45lBOu_iGD",
        "outputId": "464cf3e8-5ce2-4da9-fe1a-af60b5b93997"
      },
      "execution_count": null,
      "outputs": [
        {
          "output_type": "stream",
          "name": "stdout",
          "text": [
            "           0hr  9.5hr    11.5hr    13.5hr  15.5hr  18.5hr  20.5hr\n",
            "0     0.165000  0.272  0.046000  0.429000   0.143 -0.2110   0.183\n",
            "1     0.101000  0.237 -0.109000  0.149000   0.111 -0.1400   0.252\n",
            "2     0.150000  0.469 -0.015000  0.144000   0.072  0.1150   0.215\n",
            "3    -1.193000 -1.078 -0.963000 -0.510000  -2.392 -1.6655  -0.939\n",
            "4    -0.741000  0.227 -0.986000 -0.048000  -1.277 -0.1940  -0.194\n",
            "...        ...    ...       ...       ...     ...     ...     ...\n",
            "6395 -0.000667  0.228  0.734667  1.241333   1.748  1.2830  -0.941\n",
            "6396  0.065667  0.159  0.258833  0.562167   0.800  0.0475  -0.705\n",
            "6397  0.132000  0.090 -0.217000 -0.117000   0.250 -0.0210  -0.021\n",
            "6398  0.231000  0.218  0.044000  0.028000   0.252 -0.3570  -0.357\n",
            "6399 -0.036000  0.241 -0.202000  0.099000   0.400 -0.5000  -0.500\n",
            "\n",
            "[6400 rows x 7 columns]\n"
          ]
        }
      ]
    },
    {
      "cell_type": "code",
      "source": [
        "# PARAMETERS SETUP\n",
        "k = 4 \n",
        "thres = 1e-3"
      ],
      "metadata": {
        "id": "zgNlkcgaOjtR"
      },
      "execution_count": null,
      "outputs": []
    },
    {
      "cell_type": "markdown",
      "source": [
        "# K-Means Implementation \n",
        "Please run the Data Pre-Processing and Parameter Setup cells above!\n",
        "Plotting included in this cell. Change the K-values on the block of code above (specifically on the Parameters Setup cell)"
      ],
      "metadata": {
        "id": "f46cK_jkEsi5"
      }
    },
    {
      "cell_type": "code",
      "source": [
        "#PUTTING EVERYTHING TOGETHER IN A WHILE LOOP\n",
        "cluster = yeast.sample(n=k) #Choose random sample\n",
        "loss = []\n",
        "\n",
        "while True:\n",
        "  fin_df = pd.DataFrame(columns = range(1,k+1)) #Declare final dataframe to store cluster belonging information\n",
        "\n",
        "  #Find closest distance from datapoint to cluster \n",
        "  for index, row_p in yeast.iterrows(): #for each datapoint\n",
        "    distances = []\n",
        "    for index, row_c in cluster.iterrows(): #for each cluster\n",
        "      # norm = np.linalg.norm(row_p-row_c)\n",
        "      norm = distance.euclidean(row_p, row_c)\n",
        "      distances.append(norm)\n",
        "    min_index = np.argmin(distances) #index of min distance\n",
        "    #Populate fin_df \n",
        "    location = np.zeros(k)\n",
        "    location[min_index] = 1\n",
        "    fin_df.loc[len(fin_df)] = location #append a row to fin_df\n",
        "  \n",
        "\n",
        "  #Get the updated cluster by taking index of each cluster\n",
        "  clist = []\n",
        "  for i in range(1,k+1):\n",
        "    ind = fin_df.loc[fin_df[i]==1].index.tolist() #find index of datapoints that belong to the cluster\n",
        "    a = yeast.loc[ind] #create a dataframe with datapoints that belong to that cluster only\n",
        "    clust = a.mean().tolist()\n",
        "    clist.append(clust)\n",
        "    #print(a)\n",
        "    \n",
        "\n",
        "  #Assign the updated cluster to the original cluster dataframe\n",
        "  coltitle = cluster.columns.tolist()\n",
        "  count = 0\n",
        "  for ind, row in cluster.iterrows(): #for each row in cluster\n",
        "    # row = clist[count]\n",
        "    for i in range(len(coltitle)): #loop each column\n",
        "      tmp = clist[count] \n",
        "      row[coltitle[i]] = tmp[i]\n",
        "    count += 1\n",
        "  print(cluster)\n",
        "\n",
        "\n",
        "  #Calculate SSE now that the cluster is updated\n",
        "  sse = 0\n",
        "  for idx, row_c in cluster.iterrows(): #for every cluster\n",
        "    cnum = 1 #counter for cluster\n",
        "    ind = fin_df.loc[fin_df[cnum]==1].index.tolist() #find index of datapoints that belong to the cluster\n",
        "    a = yeast.loc[ind] \n",
        "    \n",
        "    #Find average distance\n",
        "    dist = 0\n",
        "    for idx, row_p in a.iterrows(): #for every point in that cluster, obtain avg_dist\n",
        "      # norm = np.linalg.norm(row_p-row_c)\n",
        "      norm = distance.euclidean(row_p, row_c)\n",
        "      dist += norm\n",
        "    avg_dist = dist / a.shape[0]\n",
        "\n",
        "    error = 0\n",
        "    for idx, row_p in a.iterrows(): #for every point in cluster, get error\n",
        "      error += (np.linalg.norm(row_p-row_c) - avg_dist)**2\n",
        "\n",
        "    sse += error\n",
        "\n",
        "  loss.append(sse)\n",
        "  print(\"Your SSE is\",loss)\n",
        "\n",
        "  if len(loss) > 2 and abs(loss[-2] - loss[-1]) < thres:\n",
        "    break"
      ],
      "metadata": {
        "colab": {
          "base_uri": "https://localhost:8080/"
        },
        "id": "tBG6VxrJfDCP",
        "outputId": "a2865e83-f7c6-40f7-88bc-5e7f1e8e9f2e"
      },
      "execution_count": null,
      "outputs": [
        {
          "output_type": "stream",
          "name": "stdout",
          "text": [
            "           0hr     9.5hr    11.5hr    13.5hr    15.5hr    18.5hr    20.5hr\n",
            "315  -0.107635 -0.056823  0.135326  0.153169  0.159167  0.877340  0.802059\n",
            "4883  0.047612  0.059132 -0.067642 -0.149906 -0.202746 -0.449623 -0.422771\n",
            "Your SSE is [4791.770783804463]\n",
            "           0hr     9.5hr    11.5hr    13.5hr    15.5hr    18.5hr    20.5hr\n",
            "315  -0.105829 -0.056922  0.139381  0.158365  0.173888  0.889961  0.828859\n",
            "4883  0.041380  0.055862 -0.065626 -0.146074 -0.206305 -0.423166 -0.412824\n",
            "Your SSE is [4791.770783804463, 4633.3006942805705]\n",
            "           0hr     9.5hr    11.5hr    13.5hr    15.5hr    18.5hr    20.5hr\n",
            "315  -0.107306 -0.057044  0.142201  0.161930  0.180087  0.902988  0.843254\n",
            "4883  0.039824  0.053744 -0.064159 -0.143324 -0.204474 -0.409152 -0.401477\n",
            "Your SSE is [4791.770783804463, 4633.3006942805705, 4542.0637632982425]\n",
            "           0hr     9.5hr    11.5hr    13.5hr    15.5hr    18.5hr    20.5hr\n",
            "315  -0.107302 -0.057484  0.145034  0.164179  0.183016  0.912534  0.851967\n",
            "4883  0.037950  0.052728 -0.064063 -0.141450 -0.202198 -0.400988 -0.393426\n",
            "Your SSE is [4791.770783804463, 4633.3006942805705, 4542.0637632982425, 4479.018378421816]\n",
            "           0hr     9.5hr    11.5hr    13.5hr    15.5hr    18.5hr    20.5hr\n",
            "315  -0.107773 -0.058338  0.146034  0.166242  0.185258  0.919704  0.858469\n",
            "4883  0.037000  0.052442 -0.062978 -0.140390 -0.200548 -0.394948 -0.387440\n",
            "Your SSE is [4791.770783804463, 4633.3006942805705, 4542.0637632982425, 4479.018378421816, 4434.63384931835]\n",
            "           0hr     9.5hr    11.5hr    13.5hr    15.5hr    18.5hr    20.5hr\n",
            "315  -0.109304 -0.059414  0.145744  0.167878  0.186629  0.925344  0.862245\n",
            "4883  0.037394  0.052661 -0.061390 -0.139838 -0.199260 -0.391395 -0.382720\n",
            "Your SSE is [4791.770783804463, 4633.3006942805705, 4542.0637632982425, 4479.018378421816, 4434.63384931835, 4405.6783045721295]\n",
            "           0hr     9.5hr    11.5hr    13.5hr    15.5hr    18.5hr    20.5hr\n",
            "315  -0.109992 -0.060778  0.146435  0.168536  0.188641  0.929899  0.865198\n",
            "4883  0.037216  0.053240 -0.060899 -0.138795 -0.198966 -0.388418 -0.378751\n",
            "Your SSE is [4791.770783804463, 4633.3006942805705, 4542.0637632982425, 4479.018378421816, 4434.63384931835, 4405.6783045721295, 4382.979919276566]\n",
            "           0hr     9.5hr    11.5hr    13.5hr    15.5hr    18.5hr    20.5hr\n",
            "315  -0.110060 -0.061541  0.146818  0.169589  0.190871  0.933152  0.867603\n",
            "4883  0.036679  0.053425 -0.060386 -0.138444 -0.199286 -0.385847 -0.375762\n",
            "Your SSE is [4791.770783804463, 4633.3006942805705, 4542.0637632982425, 4479.018378421816, 4434.63384931835, 4405.6783045721295, 4382.979919276566, 4365.3231923217045]\n",
            "           0hr    9.5hr    11.5hr    13.5hr    15.5hr    18.5hr    20.5hr\n",
            "315  -0.110327 -0.06219  0.147075  0.169745  0.191063  0.934894  0.869006\n",
            "4883  0.036609  0.05374 -0.060185 -0.137955 -0.198662 -0.384656 -0.374439\n",
            "Your SSE is [4791.770783804463, 4633.3006942805705, 4542.0637632982425, 4479.018378421816, 4434.63384931835, 4405.6783045721295, 4382.979919276566, 4365.3231923217045, 4356.775528853657]\n",
            "           0hr     9.5hr    11.5hr    13.5hr    15.5hr    18.5hr    20.5hr\n",
            "315  -0.110763 -0.062588  0.147041  0.169995  0.191590  0.936019  0.869993\n",
            "4883  0.036763  0.053907 -0.059859 -0.137723 -0.198544 -0.383704 -0.373480\n",
            "Your SSE is [4791.770783804463, 4633.3006942805705, 4542.0637632982425, 4479.018378421816, 4434.63384931835, 4405.6783045721295, 4382.979919276566, 4365.3231923217045, 4356.775528853657, 4349.933904971898]\n",
            "           0hr     9.5hr    11.5hr    13.5hr    15.5hr    18.5hr    20.5hr\n",
            "315  -0.110894 -0.062507  0.147091  0.169990  0.191824  0.937086  0.871265\n",
            "4883  0.036661  0.053672 -0.059604 -0.137277 -0.198180 -0.382703 -0.372760\n",
            "Your SSE is [4791.770783804463, 4633.3006942805705, 4542.0637632982425, 4479.018378421816, 4434.63384931835, 4405.6783045721295, 4382.979919276566, 4365.3231923217045, 4356.775528853657, 4349.933904971898, 4343.087423536113]\n",
            "           0hr     9.5hr    11.5hr    13.5hr    15.5hr    18.5hr    20.5hr\n",
            "315  -0.111125 -0.062814  0.147285  0.170085  0.191982  0.938117  0.872508\n",
            "4883  0.036642  0.053761 -0.059469 -0.136916 -0.197753 -0.381671 -0.372014\n",
            "Your SSE is [4791.770783804463, 4633.3006942805705, 4542.0637632982425, 4479.018378421816, 4434.63384931835, 4405.6783045721295, 4382.979919276566, 4365.3231923217045, 4356.775528853657, 4349.933904971898, 4343.087423536113, 4335.864832232136]\n",
            "           0hr     9.5hr    11.5hr    13.5hr    15.5hr    18.5hr    20.5hr\n",
            "315  -0.111135 -0.062803  0.147496  0.170232  0.191996  0.938774  0.873235\n",
            "4883  0.036524  0.053653 -0.059467 -0.136775 -0.197430 -0.381085 -0.371550\n",
            "Your SSE is [4791.770783804463, 4633.3006942805705, 4542.0637632982425, 4479.018378421816, 4434.63384931835, 4405.6783045721295, 4382.979919276566, 4365.3231923217045, 4356.775528853657, 4349.933904971898, 4343.087423536113, 4335.864832232136, 4332.39292034451]\n",
            "           0hr     9.5hr    11.5hr    13.5hr   15.5hr    18.5hr    20.5hr\n",
            "315  -0.111182 -0.062777  0.147517  0.170492  0.19218  0.939109  0.873752\n",
            "4883  0.036478  0.053564 -0.059367 -0.136815 -0.19736 -0.380608 -0.371268\n",
            "Your SSE is [4791.770783804463, 4633.3006942805705, 4542.0637632982425, 4479.018378421816, 4434.63384931835, 4405.6783045721295, 4382.979919276566, 4365.3231923217045, 4356.775528853657, 4349.933904971898, 4343.087423536113, 4335.864832232136, 4332.39292034451, 4329.460006501674]\n",
            "           0hr     9.5hr    11.5hr    13.5hr    15.5hr    18.5hr    20.5hr\n",
            "315  -0.111366 -0.062847  0.147504  0.170386  0.192146  0.939639  0.874201\n",
            "4883  0.036547  0.053556 -0.059237 -0.136552 -0.197109 -0.380293 -0.370929\n",
            "Your SSE is [4791.770783804463, 4633.3006942805705, 4542.0637632982425, 4479.018378421816, 4434.63384931835, 4405.6783045721295, 4382.979919276566, 4365.3231923217045, 4356.775528853657, 4349.933904971898, 4343.087423536113, 4335.864832232136, 4332.39292034451, 4329.460006501674, 4326.679916929241]\n",
            "           0hr     9.5hr    11.5hr    13.5hr    15.5hr    18.5hr    20.5hr\n",
            "315  -0.111325 -0.062890  0.147622  0.170480  0.192206  0.939942  0.874320\n",
            "4883  0.036470  0.053558 -0.059276 -0.136542 -0.197047 -0.380167 -0.370671\n",
            "Your SSE is [4791.770783804463, 4633.3006942805705, 4542.0637632982425, 4479.018378421816, 4434.63384931835, 4405.6783045721295, 4382.979919276566, 4365.3231923217045, 4356.775528853657, 4349.933904971898, 4343.087423536113, 4335.864832232136, 4332.39292034451, 4329.460006501674, 4326.679916929241, 4325.180197888534]\n",
            "           0hr     9.5hr    11.5hr    13.5hr    15.5hr    18.5hr    20.5hr\n",
            "315  -0.111333 -0.063021  0.147695  0.170357  0.192274  0.940320  0.874403\n",
            "4883  0.036435  0.053633 -0.059278 -0.136352 -0.196993 -0.380104 -0.370384\n",
            "Your SSE is [4791.770783804463, 4633.3006942805705, 4542.0637632982425, 4479.018378421816, 4434.63384931835, 4405.6783045721295, 4382.979919276566, 4365.3231923217045, 4356.775528853657, 4349.933904971898, 4343.087423536113, 4335.864832232136, 4332.39292034451, 4329.460006501674, 4326.679916929241, 4325.180197888534, 4324.058732816663]\n",
            "           0hr     9.5hr    11.5hr    13.5hr    15.5hr    18.5hr    20.5hr\n",
            "315  -0.111333 -0.063021  0.147695  0.170357  0.192274  0.940320  0.874403\n",
            "4883  0.036435  0.053633 -0.059278 -0.136352 -0.196993 -0.380104 -0.370384\n",
            "Your SSE is [4791.770783804463, 4633.3006942805705, 4542.0637632982425, 4479.018378421816, 4434.63384931835, 4405.6783045721295, 4382.979919276566, 4365.3231923217045, 4356.775528853657, 4349.933904971898, 4343.087423536113, 4335.864832232136, 4332.39292034451, 4329.460006501674, 4326.679916929241, 4325.180197888534, 4324.058732816663, 4324.058732816663]\n"
          ]
        }
      ]
    },
    {
      "cell_type": "code",
      "source": [
        "#Post Processing\n",
        "#Append which cluster each datapoint belongs to, to the dataframe yeast_df\n",
        "title = fin_df.columns.tolist()\n",
        "loc = [] #list of 1-k, telling us which cluster it belongs to\n",
        "for idx, rows in fin_df.iterrows(): #for each row\n",
        "  for i in range(len(title)): #in the column\n",
        "    if(rows[title[i]]) == 1:\n",
        "      loc.append(title[i])\n",
        "\n",
        "yeast_df = yeast\n",
        "yeast_df['loc'] = pd.Series(loc)"
      ],
      "metadata": {
        "id": "Z08hyHjGciKN"
      },
      "execution_count": null,
      "outputs": []
    },
    {
      "cell_type": "code",
      "source": [
        "#Recall the yeast data\n",
        "yeast = pd.read_csv('yeast.tsv', sep = '\\t')\n",
        "\n",
        "#Fill out missing data with df.interpolate() for row-wise interpolation\n",
        "pd.set_option('display.max_rows', 10)\n",
        "yeast = yeast.interpolate(axis=1)\n",
        "\n",
        "#Some rows don't have enough information to interpolate, so perform column-wise interpolation\n",
        "yeast = yeast.interpolate(axis=0)\n",
        "\n",
        "yeast.index -= 1 #shift index to match yeast dataframe\n",
        "# yeast"
      ],
      "metadata": {
        "colab": {
          "base_uri": "https://localhost:8080/",
          "height": 424
        },
        "id": "KvRElJHN9iT_",
        "outputId": "50cfed91-9b39-4449-9c70-e0e6942d26bc"
      },
      "execution_count": null,
      "outputs": [
        {
          "output_type": "execute_result",
          "data": {
            "text/plain": [
              "           0hr  9.5hr    11.5hr    13.5hr  15.5hr  18.5hr  20.5hr\n",
              "0     0.165000  0.272  0.046000  0.429000   0.143 -0.2110   0.183\n",
              "1     0.101000  0.237 -0.109000  0.149000   0.111 -0.1400   0.252\n",
              "2     0.150000  0.469 -0.015000  0.144000   0.072  0.1150   0.215\n",
              "3    -1.193000 -1.078 -0.963000 -0.510000  -2.392 -1.6655  -0.939\n",
              "4    -0.741000  0.227 -0.986000 -0.048000  -1.277 -0.1940  -0.194\n",
              "...        ...    ...       ...       ...     ...     ...     ...\n",
              "6395 -0.000667  0.228  0.734667  1.241333   1.748  1.2830  -0.941\n",
              "6396  0.065667  0.159  0.258833  0.562167   0.800  0.0475  -0.705\n",
              "6397  0.132000  0.090 -0.217000 -0.117000   0.250 -0.0210  -0.021\n",
              "6398  0.231000  0.218  0.044000  0.028000   0.252 -0.3570  -0.357\n",
              "6399 -0.036000  0.241 -0.202000  0.099000   0.400 -0.5000  -0.500\n",
              "\n",
              "[6400 rows x 7 columns]"
            ],
            "text/html": [
              "\n",
              "  <div id=\"df-0e8f0924-cd71-4a6f-8bdb-eefc0834d6ff\">\n",
              "    <div class=\"colab-df-container\">\n",
              "      <div>\n",
              "<style scoped>\n",
              "    .dataframe tbody tr th:only-of-type {\n",
              "        vertical-align: middle;\n",
              "    }\n",
              "\n",
              "    .dataframe tbody tr th {\n",
              "        vertical-align: top;\n",
              "    }\n",
              "\n",
              "    .dataframe thead th {\n",
              "        text-align: right;\n",
              "    }\n",
              "</style>\n",
              "<table border=\"1\" class=\"dataframe\">\n",
              "  <thead>\n",
              "    <tr style=\"text-align: right;\">\n",
              "      <th></th>\n",
              "      <th>0hr</th>\n",
              "      <th>9.5hr</th>\n",
              "      <th>11.5hr</th>\n",
              "      <th>13.5hr</th>\n",
              "      <th>15.5hr</th>\n",
              "      <th>18.5hr</th>\n",
              "      <th>20.5hr</th>\n",
              "    </tr>\n",
              "  </thead>\n",
              "  <tbody>\n",
              "    <tr>\n",
              "      <th>0</th>\n",
              "      <td>0.165000</td>\n",
              "      <td>0.272</td>\n",
              "      <td>0.046000</td>\n",
              "      <td>0.429000</td>\n",
              "      <td>0.143</td>\n",
              "      <td>-0.2110</td>\n",
              "      <td>0.183</td>\n",
              "    </tr>\n",
              "    <tr>\n",
              "      <th>1</th>\n",
              "      <td>0.101000</td>\n",
              "      <td>0.237</td>\n",
              "      <td>-0.109000</td>\n",
              "      <td>0.149000</td>\n",
              "      <td>0.111</td>\n",
              "      <td>-0.1400</td>\n",
              "      <td>0.252</td>\n",
              "    </tr>\n",
              "    <tr>\n",
              "      <th>2</th>\n",
              "      <td>0.150000</td>\n",
              "      <td>0.469</td>\n",
              "      <td>-0.015000</td>\n",
              "      <td>0.144000</td>\n",
              "      <td>0.072</td>\n",
              "      <td>0.1150</td>\n",
              "      <td>0.215</td>\n",
              "    </tr>\n",
              "    <tr>\n",
              "      <th>3</th>\n",
              "      <td>-1.193000</td>\n",
              "      <td>-1.078</td>\n",
              "      <td>-0.963000</td>\n",
              "      <td>-0.510000</td>\n",
              "      <td>-2.392</td>\n",
              "      <td>-1.6655</td>\n",
              "      <td>-0.939</td>\n",
              "    </tr>\n",
              "    <tr>\n",
              "      <th>4</th>\n",
              "      <td>-0.741000</td>\n",
              "      <td>0.227</td>\n",
              "      <td>-0.986000</td>\n",
              "      <td>-0.048000</td>\n",
              "      <td>-1.277</td>\n",
              "      <td>-0.1940</td>\n",
              "      <td>-0.194</td>\n",
              "    </tr>\n",
              "    <tr>\n",
              "      <th>...</th>\n",
              "      <td>...</td>\n",
              "      <td>...</td>\n",
              "      <td>...</td>\n",
              "      <td>...</td>\n",
              "      <td>...</td>\n",
              "      <td>...</td>\n",
              "      <td>...</td>\n",
              "    </tr>\n",
              "    <tr>\n",
              "      <th>6395</th>\n",
              "      <td>-0.000667</td>\n",
              "      <td>0.228</td>\n",
              "      <td>0.734667</td>\n",
              "      <td>1.241333</td>\n",
              "      <td>1.748</td>\n",
              "      <td>1.2830</td>\n",
              "      <td>-0.941</td>\n",
              "    </tr>\n",
              "    <tr>\n",
              "      <th>6396</th>\n",
              "      <td>0.065667</td>\n",
              "      <td>0.159</td>\n",
              "      <td>0.258833</td>\n",
              "      <td>0.562167</td>\n",
              "      <td>0.800</td>\n",
              "      <td>0.0475</td>\n",
              "      <td>-0.705</td>\n",
              "    </tr>\n",
              "    <tr>\n",
              "      <th>6397</th>\n",
              "      <td>0.132000</td>\n",
              "      <td>0.090</td>\n",
              "      <td>-0.217000</td>\n",
              "      <td>-0.117000</td>\n",
              "      <td>0.250</td>\n",
              "      <td>-0.0210</td>\n",
              "      <td>-0.021</td>\n",
              "    </tr>\n",
              "    <tr>\n",
              "      <th>6398</th>\n",
              "      <td>0.231000</td>\n",
              "      <td>0.218</td>\n",
              "      <td>0.044000</td>\n",
              "      <td>0.028000</td>\n",
              "      <td>0.252</td>\n",
              "      <td>-0.3570</td>\n",
              "      <td>-0.357</td>\n",
              "    </tr>\n",
              "    <tr>\n",
              "      <th>6399</th>\n",
              "      <td>-0.036000</td>\n",
              "      <td>0.241</td>\n",
              "      <td>-0.202000</td>\n",
              "      <td>0.099000</td>\n",
              "      <td>0.400</td>\n",
              "      <td>-0.5000</td>\n",
              "      <td>-0.500</td>\n",
              "    </tr>\n",
              "  </tbody>\n",
              "</table>\n",
              "<p>6400 rows × 7 columns</p>\n",
              "</div>\n",
              "      <button class=\"colab-df-convert\" onclick=\"convertToInteractive('df-0e8f0924-cd71-4a6f-8bdb-eefc0834d6ff')\"\n",
              "              title=\"Convert this dataframe to an interactive table.\"\n",
              "              style=\"display:none;\">\n",
              "        \n",
              "  <svg xmlns=\"http://www.w3.org/2000/svg\" height=\"24px\"viewBox=\"0 0 24 24\"\n",
              "       width=\"24px\">\n",
              "    <path d=\"M0 0h24v24H0V0z\" fill=\"none\"/>\n",
              "    <path d=\"M18.56 5.44l.94 2.06.94-2.06 2.06-.94-2.06-.94-.94-2.06-.94 2.06-2.06.94zm-11 1L8.5 8.5l.94-2.06 2.06-.94-2.06-.94L8.5 2.5l-.94 2.06-2.06.94zm10 10l.94 2.06.94-2.06 2.06-.94-2.06-.94-.94-2.06-.94 2.06-2.06.94z\"/><path d=\"M17.41 7.96l-1.37-1.37c-.4-.4-.92-.59-1.43-.59-.52 0-1.04.2-1.43.59L10.3 9.45l-7.72 7.72c-.78.78-.78 2.05 0 2.83L4 21.41c.39.39.9.59 1.41.59.51 0 1.02-.2 1.41-.59l7.78-7.78 2.81-2.81c.8-.78.8-2.07 0-2.86zM5.41 20L4 18.59l7.72-7.72 1.47 1.35L5.41 20z\"/>\n",
              "  </svg>\n",
              "      </button>\n",
              "      \n",
              "  <style>\n",
              "    .colab-df-container {\n",
              "      display:flex;\n",
              "      flex-wrap:wrap;\n",
              "      gap: 12px;\n",
              "    }\n",
              "\n",
              "    .colab-df-convert {\n",
              "      background-color: #E8F0FE;\n",
              "      border: none;\n",
              "      border-radius: 50%;\n",
              "      cursor: pointer;\n",
              "      display: none;\n",
              "      fill: #1967D2;\n",
              "      height: 32px;\n",
              "      padding: 0 0 0 0;\n",
              "      width: 32px;\n",
              "    }\n",
              "\n",
              "    .colab-df-convert:hover {\n",
              "      background-color: #E2EBFA;\n",
              "      box-shadow: 0px 1px 2px rgba(60, 64, 67, 0.3), 0px 1px 3px 1px rgba(60, 64, 67, 0.15);\n",
              "      fill: #174EA6;\n",
              "    }\n",
              "\n",
              "    [theme=dark] .colab-df-convert {\n",
              "      background-color: #3B4455;\n",
              "      fill: #D2E3FC;\n",
              "    }\n",
              "\n",
              "    [theme=dark] .colab-df-convert:hover {\n",
              "      background-color: #434B5C;\n",
              "      box-shadow: 0px 1px 3px 1px rgba(0, 0, 0, 0.15);\n",
              "      filter: drop-shadow(0px 1px 2px rgba(0, 0, 0, 0.3));\n",
              "      fill: #FFFFFF;\n",
              "    }\n",
              "  </style>\n",
              "\n",
              "      <script>\n",
              "        const buttonEl =\n",
              "          document.querySelector('#df-0e8f0924-cd71-4a6f-8bdb-eefc0834d6ff button.colab-df-convert');\n",
              "        buttonEl.style.display =\n",
              "          google.colab.kernel.accessAllowed ? 'block' : 'none';\n",
              "\n",
              "        async function convertToInteractive(key) {\n",
              "          const element = document.querySelector('#df-0e8f0924-cd71-4a6f-8bdb-eefc0834d6ff');\n",
              "          const dataTable =\n",
              "            await google.colab.kernel.invokeFunction('convertToInteractive',\n",
              "                                                     [key], {});\n",
              "          if (!dataTable) return;\n",
              "\n",
              "          const docLinkHtml = 'Like what you see? Visit the ' +\n",
              "            '<a target=\"_blank\" href=https://colab.research.google.com/notebooks/data_table.ipynb>data table notebook</a>'\n",
              "            + ' to learn more about interactive tables.';\n",
              "          element.innerHTML = '';\n",
              "          dataTable['output_type'] = 'display_data';\n",
              "          await google.colab.output.renderOutput(dataTable, element);\n",
              "          const docLink = document.createElement('div');\n",
              "          docLink.innerHTML = docLinkHtml;\n",
              "          element.appendChild(docLink);\n",
              "        }\n",
              "      </script>\n",
              "    </div>\n",
              "  </div>\n",
              "  "
            ]
          },
          "metadata": {},
          "execution_count": 11
        }
      ]
    },
    {
      "cell_type": "code",
      "source": [
        "#PCA for Visualization\n",
        "pca = PCA(n_components=2)\n",
        "# X_scale = scale(yeast)\n",
        "X_r = pca.fit_transform(yeast)\n",
        "\n",
        "# cluster_scale = scale(cluster)\n",
        "C_r = pca.transform(cluster)"
      ],
      "metadata": {
        "id": "Y25sm7fabhbG"
      },
      "execution_count": null,
      "outputs": []
    },
    {
      "cell_type": "code",
      "source": [
        "warna = ['orangered','skyblue','palegreen','beige','mediumpurple', 'aqua', 'lightpink','dimgrey','black']\n",
        "warna_cluster = ['firebrick', 'steelblue', 'olivedrab', 'darkgoldenrod', 'rebeccapurple', 'teal', 'crimson', 'gainsboro','white']\n",
        "for c in range(1,len(np.unique(loc))+1):\n",
        "  dc = yeast_df.index[yeast_df['loc']==c].tolist() #index that belongs to certain cluster\n",
        "  plt.scatter(X_r[dc,0], X_r[dc,1], color = warna[c-1], zorder=-1)\n",
        "  plt.scatter(C_r[c-1,0], C_r[c-1,1],  color = warna_cluster[c-1], marker = 'v')\n",
        "plt.xlabel('PC1')\n",
        "plt.ylabel('PC2')\n",
        "plt.title(\"Yeast kmeans clustering\")"
      ],
      "metadata": {
        "colab": {
          "base_uri": "https://localhost:8080/",
          "height": 313
        },
        "id": "ZIYDfnp_rcPz",
        "outputId": "f4ecad31-2b5f-4828-dff4-8a442c35bc59"
      },
      "execution_count": null,
      "outputs": [
        {
          "output_type": "execute_result",
          "data": {
            "text/plain": [
              "Text(0.5, 1.0, 'Yeast kmeans clustering')"
            ]
          },
          "metadata": {},
          "execution_count": 15
        },
        {
          "output_type": "display_data",
          "data": {
            "text/plain": [
              "<Figure size 432x288 with 1 Axes>"
            ],
            "image/png": "[encoded data removed]"
          },
          "metadata": {
            "needs_background": "light"
          }
        }
      ]
    },
    {
      "cell_type": "code",
      "source": [
        "#Plot loss function\n",
        "lossdiff = []\n",
        "for i in range(1,len(loss)):\n",
        "  diff = abs(loss[i-1]-loss[i])\n",
        "  lossdiff.append(diff)\n",
        "plt.plot(lossdiff)\n",
        "plt.xlabel(\"Iteration\")\n",
        "plt.ylabel(\"SSE Difference\")\n",
        "plt.title('Loss Difference throughout Different Iterations')"
      ],
      "metadata": {
        "id": "2mKmNhOB6ErW"
      },
      "execution_count": null,
      "outputs": []
    },
    {
      "cell_type": "markdown",
      "source": [
        "# GMM\n",
        "It is advised to run the cells above before running this cell."
      ],
      "metadata": {
        "id": "hGejag33Xrbz"
      }
    },
    {
      "cell_type": "code",
      "source": [
        "#GMM Prep\n",
        "frame = yeast\n",
        "gmm = GaussianMixture(n_components = 8)\n",
        "gmm.fit(frame)\n",
        "labels = gmm.predict(frame)\n",
        "labels = labels + 1 #shifting\n",
        "frame['loc'] = labels\n",
        "\n",
        "#Plotting\n",
        "for c in range(1,len(np.unique(labels))+1):\n",
        "  dc = frame.index[frame['loc']==c].tolist() #index that belongs to certain cluster\n",
        "  plt.scatter(X_r[dc,0], X_r[dc,1])\n",
        "plt.xlabel('PC1')\n",
        "plt.ylabel('PC2')\n",
        "plt.title(\"Yeast GMM clustering\")"
      ],
      "metadata": {
        "colab": {
          "base_uri": "https://localhost:8080/",
          "height": 313
        },
        "id": "8TWQKqcEXsjL",
        "outputId": "b3b9f30e-d170-4cea-d0a8-9d87607989c2"
      },
      "execution_count": null,
      "outputs": [
        {
          "output_type": "execute_result",
          "data": {
            "text/plain": [
              "Text(0.5, 1.0, 'Yeast GMM clustering')"
            ]
          },
          "metadata": {},
          "execution_count": 24
        },
        {
          "output_type": "display_data",
          "data": {
            "text/plain": [
              "<Figure size 432x288 with 1 Axes>"
            ],
            "image/png": "[encoded data removed]"
          },
          "metadata": {
            "needs_background": "light"
          }
        }
      ]
    },
    {
      "cell_type": "code",
      "source": [
        ""
      ],
      "metadata": {
        "id": "M2wmvr22cX3v"
      },
      "execution_count": null,
      "outputs": []
    },
    {
      "cell_type": "code",
      "source": [
        ""
      ],
      "metadata": {
        "id": "4GjbO-IPbkkA"
      },
      "execution_count": null,
      "outputs": []
    },
    {
      "cell_type": "code",
      "source": [
        ""
      ],
      "metadata": {
        "id": "iwxBcHJR9Wql"
      },
      "execution_count": null,
      "outputs": []
    }
  ]
}