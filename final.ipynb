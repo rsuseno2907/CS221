{
 "cells": [
  {
   "cell_type": "code",
   "execution_count": 81,
   "metadata": {},
   "outputs": [],
   "source": [
    "import pandas as pd\n",
    "import numpy as np\n",
    "from sklearn.metrics import pairwise_distances\n",
    "import matplotlib.pyplot as plt"
   ]
  },
  {
   "cell_type": "code",
   "execution_count": 3,
   "metadata": {},
   "outputs": [
    {
     "data": {
      "text/html": [
       "<div>\n",
       "<style scoped>\n",
       "    .dataframe tbody tr th:only-of-type {\n",
       "        vertical-align: middle;\n",
       "    }\n",
       "\n",
       "    .dataframe tbody tr th {\n",
       "        vertical-align: top;\n",
       "    }\n",
       "\n",
       "    .dataframe thead th {\n",
       "        text-align: right;\n",
       "    }\n",
       "</style>\n",
       "<table border=\"1\" class=\"dataframe\">\n",
       "  <thead>\n",
       "    <tr style=\"text-align: right;\">\n",
       "      <th></th>\n",
       "      <th>0</th>\n",
       "      <th>1</th>\n",
       "    </tr>\n",
       "  </thead>\n",
       "  <tbody>\n",
       "    <tr>\n",
       "      <td>0</td>\n",
       "      <td>0.072435</td>\n",
       "      <td>0.004788</td>\n",
       "    </tr>\n",
       "    <tr>\n",
       "      <td>1</td>\n",
       "      <td>-0.093958</td>\n",
       "      <td>0.118346</td>\n",
       "    </tr>\n",
       "    <tr>\n",
       "      <td>2</td>\n",
       "      <td>1.637295</td>\n",
       "      <td>0.021868</td>\n",
       "    </tr>\n",
       "    <tr>\n",
       "      <td>3</td>\n",
       "      <td>0.266178</td>\n",
       "      <td>-0.042178</td>\n",
       "    </tr>\n",
       "    <tr>\n",
       "      <td>4</td>\n",
       "      <td>0.672105</td>\n",
       "      <td>-0.403411</td>\n",
       "    </tr>\n",
       "    <tr>\n",
       "      <td>...</td>\n",
       "      <td>...</td>\n",
       "      <td>...</td>\n",
       "    </tr>\n",
       "    <tr>\n",
       "      <td>195</td>\n",
       "      <td>9.864852</td>\n",
       "      <td>8.486013</td>\n",
       "    </tr>\n",
       "    <tr>\n",
       "      <td>196</td>\n",
       "      <td>9.934785</td>\n",
       "      <td>9.162691</td>\n",
       "    </tr>\n",
       "    <tr>\n",
       "      <td>197</td>\n",
       "      <td>11.232787</td>\n",
       "      <td>8.870784</td>\n",
       "    </tr>\n",
       "    <tr>\n",
       "      <td>198</td>\n",
       "      <td>7.948785</td>\n",
       "      <td>10.471377</td>\n",
       "    </tr>\n",
       "    <tr>\n",
       "      <td>199</td>\n",
       "      <td>10.613488</td>\n",
       "      <td>10.619704</td>\n",
       "    </tr>\n",
       "  </tbody>\n",
       "</table>\n",
       "<p>200 rows × 2 columns</p>\n",
       "</div>"
      ],
      "text/plain": [
       "             0          1\n",
       "0     0.072435   0.004788\n",
       "1    -0.093958   0.118346\n",
       "2     1.637295   0.021868\n",
       "3     0.266178  -0.042178\n",
       "4     0.672105  -0.403411\n",
       "..         ...        ...\n",
       "195   9.864852   8.486013\n",
       "196   9.934785   9.162691\n",
       "197  11.232787   8.870784\n",
       "198   7.948785  10.471377\n",
       "199  10.613488  10.619704\n",
       "\n",
       "[200 rows x 2 columns]"
      ]
     },
     "execution_count": 3,
     "metadata": {},
     "output_type": "execute_result"
    }
   ],
   "source": [
    "df = pd.read_csv(\"problem1.tsv\", sep = '\\t', header = None)\n",
    "df"
   ]
  },
  {
   "cell_type": "code",
   "execution_count": 83,
   "metadata": {},
   "outputs": [],
   "source": [
    "def pji(data, sigma):\n",
    "    res = np.zeros([len(data), len(data)])\n",
    "    distToAll = pairwise_distances(data, metric = \"euclidean\", squared = True)\n",
    "    \n",
    "    denominator = []\n",
    "    for i in range(0, len(distToAll)):\n",
    "        tmp = np.sum(np.exp(-1*distToAll[i,:]/2*sigma**2))\n",
    "        denominator.append(tmp-1)\n",
    "\n",
    "    #Populate the result matrix\n",
    "    for i in range(0, len(data)):\n",
    "        for j in range(0, len(data)):\n",
    "            # numer = np.exp(-1*(np.linalg.norm(data.iloc[i], data.iloc[j]))**2/(2*sigma**2))\n",
    "            numer = np.exp(-1 * distToAll[i,j] / 2*sigma**2)\n",
    "            res[i][j] = numer / denominator[i]\n",
    "    return res\n"
   ]
  },
  {
   "cell_type": "code",
   "execution_count": null,
   "metadata": {},
   "outputs": [],
   "source": []
  },
  {
   "cell_type": "code",
   "execution_count": 84,
   "metadata": {},
   "outputs": [
    {
     "name": "stdout",
     "output_type": "stream",
     "text": [
      "Sum for a row: 1.0207383872641376\n"
     ]
    }
   ],
   "source": [
    "#1a\n",
    "pji_mat = pji(df, 1)\n",
    "\n",
    "print(\"Sum for a row:\",np.sum(pji_mat[0,:]))"
   ]
  },
  {
   "cell_type": "code",
   "execution_count": 85,
   "metadata": {},
   "outputs": [
    {
     "name": "stdout",
     "output_type": "stream",
     "text": [
      "Sum of entire matrix: 1.0403048156926824\n"
     ]
    }
   ],
   "source": [
    "#1b\n",
    "pij_mat = pji_mat.transpose()\n",
    "res = (pij_mat + pji_mat)/400\n",
    "print(\"Sum of entire matrix:\",np.sum(res))    \n"
   ]
  },
  {
   "cell_type": "code",
   "execution_count": null,
   "metadata": {},
   "outputs": [],
   "source": [
    "#1c\n"
   ]
  },
  {
   "cell_type": "code",
   "execution_count": 86,
   "metadata": {},
   "outputs": [],
   "source": [
    "#1d\n",
    "def qij(data, sigma):\n",
    "    res = np.zeros([len(data), len(data)])\n",
    "    distToAll = pairwise_distances(data, metric = \"euclidean\", squared = True)\n",
    "    \n",
    "    denominator = []\n",
    "    for i in range(0, len(distToAll)):\n",
    "        tmp = np.sum((1 + distToAll[i,:])**-1)\n",
    "        denominator.append(tmp-1)\n",
    "\n",
    "    #Populate the result matrix\n",
    "    for i in range(0, len(data)):\n",
    "        for j in range(0, len(data)):\n",
    "            numer = (1 + distToAll[i,j])**-1\n",
    "            res[i][j] = numer / denominator[i]\n",
    "    return res\n",
    "\n",
    "    "
   ]
  },
  {
   "cell_type": "code",
   "execution_count": 90,
   "metadata": {},
   "outputs": [
    {
     "data": {
      "text/plain": [
       "(200, 200)"
      ]
     },
     "execution_count": 90,
     "metadata": {},
     "output_type": "execute_result"
    }
   ],
   "source": [
    "qij_mat = qij(df, 1)\n",
    "qij_mat.shape\n",
    "#np.sum(qij_mat[0,:])"
   ]
  }
 ],
 "metadata": {
  "interpreter": {
   "hash": "0a09ab11005fed8c22d16859e7fc327f1f5cf57473a72b9146e7e7eaa59e22eb"
  },
  "kernelspec": {
   "display_name": "Python 3.7.4 ('base')",
   "language": "python",
   "name": "python3"
  },
  "language_info": {
   "codemirror_mode": {
    "name": "ipython",
    "version": 3
   },
   "file_extension": ".py",
   "mimetype": "text/x-python",
   "name": "python",
   "nbconvert_exporter": "python",
   "pygments_lexer": "ipython3",
   "version": "3.7.4"
  },
  "orig_nbformat": 4
 },
 "nbformat": 4,
 "nbformat_minor": 2
}
